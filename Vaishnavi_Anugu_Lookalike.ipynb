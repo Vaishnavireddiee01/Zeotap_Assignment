{
 "cells": [
  {
   "cell_type": "code",
   "execution_count": 40,
   "id": "a9527e83",
   "metadata": {},
   "outputs": [],
   "source": [
    "import pandas as pd\n",
    "from sklearn.metrics.pairwise import cosine_similarity\n",
    "from sklearn.preprocessing import MinMaxScaler\n",
    "\n",
    "# Load the data\n",
    "customers = pd.read_csv(\"Customers.csv\")\n",
    "products = pd.read_csv(\"Products.csv\")\n",
    "transactions = pd.read_csv(\"Transactions.csv\")"
   ]
  },
  {
   "cell_type": "markdown",
   "id": "b2b8cbdb",
   "metadata": {},
   "source": [
    "## Feature Engineering: Aggregate transaction-level data for customer profiles"
   ]
  },
  {
   "cell_type": "code",
   "execution_count": 41,
   "id": "e21c0320",
   "metadata": {},
   "outputs": [],
   "source": [
    "# Merge transaction data with customer and product information\n",
    "data = transactions.merge(customers, on=\"CustomerID\", how=\"left\")\n",
    "data = data.merge(products, on=\"ProductID\", how=\"left\")\n",
    "\n",
    "# Feature Engineering: Aggregate transaction-level data for customer profiles\n",
    "customer_features = data.groupby('CustomerID').agg({\n",
    "    'Region': lambda x: x.mode()[0],  # Region as the most common value\n",
    "    'Quantity': 'sum',               # Total quantity purchased\n",
    "    'TotalValue': 'sum',             # Total revenue generated\n",
    "    'Category': lambda x: x.value_counts().index[0]  # Most purchased category\n",
    "}).reset_index()\n",
    "\n",
    "# One-Hot Encode categorical features (Region and Category)\n",
    "customer_features = pd.get_dummies(customer_features, columns=['Region', 'Category'], drop_first=True)\n",
    "\n",
    "# Normalize numerical features for similarity calculations\n",
    "scaler = MinMaxScaler()\n",
    "customer_features.iloc[:, 1:] = scaler.fit_transform(customer_features.iloc[:, 1:])\n",
    "\n",
    "# Build a similarity matrix using cosine similarity\n",
    "similarity_matrix = cosine_similarity(customer_features.iloc[:, 1:])\n",
    "similarity_df = pd.DataFrame(similarity_matrix, index=customer_features['CustomerID'], columns=customer_features['CustomerID'])\n"
   ]
  },
  {
   "cell_type": "code",
   "execution_count": 43,
   "id": "7f22790f",
   "metadata": {},
   "outputs": [
    {
     "name": "stdout",
     "output_type": "stream",
     "text": [
      "Lookalike Model Completed. Results saved to SampleLookalike.csv\n"
     ]
    }
   ],
   "source": [
    "# Generate lookalikes for the first 20 customers\n",
    "lookalike_map = {}\n",
    "\n",
    "for cust_id in customer_features['CustomerID'][:20]:\n",
    "    # Exclude the current customer and get the top 3 most similar customers\n",
    "    similar_customers = similarity_df[cust_id].sort_values(ascending=False).drop(cust_id).head(3)\n",
    "    lookalike_map[cust_id] = list(similar_customers.items())\n",
    "\n",
    "# Convert to the required format for Lookalike.csv\n",
    "lookalike_results = []\n",
    "\n",
    "for cust_id, recommendations in lookalike_map.items():\n",
    "    for rec_id, score in recommendations:\n",
    "        lookalike_results.append({\n",
    "            \"cust_id\": cust_id,\n",
    "            \"recommended_cust_id\": rec_id,\n",
    "            \"similarity_score\": score\n",
    "        })\n",
    "\n",
    "lookalike_df = pd.DataFrame(lookalike_results)\n",
    "lookalike_df.to_csv(\"SampleLookalike.csv\", index=False)\n",
    "\n",
    "print(\"Lookalike Model Completed. Results saved to SampleLookalike.csv\")\n"
   ]
  },
  {
   "cell_type": "markdown",
   "id": "0ee5d95e",
   "metadata": {},
   "source": [
    "## Apply KMeans clustering to customer features"
   ]
  },
  {
   "cell_type": "code",
   "execution_count": 44,
   "id": "4046024b",
   "metadata": {},
   "outputs": [
    {
     "name": "stdout",
     "output_type": "stream",
     "text": [
      "Silhouette Score for Clusters: 0.48869615016567886\n"
     ]
    },
    {
     "name": "stderr",
     "output_type": "stream",
     "text": [
      "C:\\Users\\vaish\\AppData\\Roaming\\Python\\Python39\\site-packages\\sklearn\\cluster\\_kmeans.py:1429: UserWarning: KMeans is known to have a memory leak on Windows with MKL, when there are less chunks than available threads. You can avoid it by setting the environment variable OMP_NUM_THREADS=1.\n",
      "  warnings.warn(\n"
     ]
    }
   ],
   "source": [
    "from sklearn.cluster import KMeans\n",
    "from sklearn.metrics import silhouette_score\n",
    "\n",
    "# Apply KMeans clustering to customer features\n",
    "kmeans = KMeans(n_clusters=5, random_state=42)\n",
    "customer_features['Cluster'] = kmeans.fit_predict(customer_features.iloc[:, 1:])\n",
    "\n",
    "# Calculate Silhouette Score\n",
    "silhouette_avg = silhouette_score(customer_features.iloc[:, 1:], customer_features['Cluster'])\n",
    "print(f\"Silhouette Score for Clusters: {silhouette_avg}\")"
   ]
  },
  {
   "cell_type": "code",
   "execution_count": 45,
   "id": "a2540519",
   "metadata": {},
   "outputs": [
    {
     "name": "stdout",
     "output_type": "stream",
     "text": [
      "Customer C0001 Recommendations: [('C0107', 0.9998616430777432), ('C0184', 0.9997715277163312), ('C0048', 0.9995332182193393)]\n",
      "Actual Similarities: [0.9999030452138098, 0.9998405673491204, 0.9996722498510545]\n",
      "Customer C0002 Recommendations: [('C0159', 0.9979999334827133), ('C0178', 0.9967115387634209), ('C0110', 0.9798616414064173)]\n",
      "Actual Similarities: [0.9995567685983444, 0.9992763915439784, 0.9956010888554828]\n",
      "Customer C0003 Recommendations: [('C0181', 0.9990998973903307), ('C0133', 0.9979316325806195), ('C0076', 0.9977575893729745)]\n",
      "Actual Similarities: [0.999356198124478, 0.9985542069281221, 0.9984157165167075]\n",
      "Customer C0004 Recommendations: [('C0169', 0.9971583414867403), ('C0165', 0.9914252776551769), ('C0153', 0.9913886553298505)]\n",
      "Actual Similarities: [0.9978038040040303, 0.9924557362020743, 0.9937287170628568]\n",
      "Customer C0005 Recommendations: [('C0186', 0.9996981348234925), ('C0146', 0.9984708703936827), ('C0007', 0.9984341247972212)]\n",
      "Actual Similarities: [0.9996981348234925, 0.9984708703936829, 0.9984341247972212]\n",
      "Customer C0006 Recommendations: [('C0126', 0.9993937056761872), ('C0187', 0.9990846643229314), ('C0011', 0.9987339207477243)]\n",
      "Actual Similarities: [0.9996118645056207, 0.9994844250663515, 0.9992885999027596]\n",
      "Customer C0007 Recommendations: [('C0146', 0.9999996886493803), ('C0115', 0.9988398636567087), ('C0005', 0.9984341247972212)]\n",
      "Actual Similarities: [0.9999996886493805, 0.9988398636567088, 0.9984341247972212]\n",
      "Customer C0008 Recommendations: [('C0122', 0.9970333525116207), ('C0046', 0.9967279855775597), ('C0194', 0.9930631554653849)]\n",
      "Actual Similarities: [0.9995932529769034, 0.9995328249174917, 0.9989630379772545]\n",
      "Customer C0009 Recommendations: [('C0061', 0.9944130857758606), ('C0062', 0.9925389989107), ('C0103', 0.9907814055753357)]\n",
      "Actual Similarities: [0.998955970845373, 0.9986030778081735, 0.9982634398354452]\n",
      "Customer C0010 Recommendations: [('C0111', 0.9964431632741196), ('C0062', 0.9962102864521118), ('C0167', 0.9954472945528773)]\n",
      "Actual Similarities: [0.9992447319073898, 0.999254364302513, 0.9991184313339272]\n",
      "Customer C0011 Recommendations: [('C0006', 0.9987339207477243), ('C0137', 0.998146284933035), ('C0126', 0.99787520102507)]\n",
      "Actual Similarities: [0.9992885999027596, 0.9988763368556339, 0.9987329290204423]\n",
      "Customer C0012 Recommendations: [('C0163', 0.9995437048897474), ('C0113', 0.9980417987323469), ('C0195', 0.9971734358530018)]\n",
      "Actual Similarities: [0.9996602117840374, 0.9985571313854482, 0.9978678930617294]\n",
      "Customer C0013 Recommendations: [('C0099', 0.9980808806093808), ('C0108', 0.9974410788472328), ('C0129', 0.9622990859228381)]\n",
      "Actual Similarities: [0.9984703231203884, 0.998043593842491, 0.9724023194800211]\n",
      "Customer C0014 Recommendations: [('C0060', 0.9998756502898258), ('C0119', 0.9942336080817236), ('C0089', 0.9829824497026451)]\n",
      "Actual Similarities: [0.9999585305660752, 0.9980570481716928, 0.9941862608778248]\n",
      "Customer C0015 Recommendations: [('C0131', 0.9931449155330103), ('C0094', 0.9879630059293811), ('C0125', 0.9712859431198758)]\n",
      "Actual Similarities: [0.9995645846407146, 0.9992384298838592, 0.9980516496977755]\n",
      "Customer C0016 Recommendations: [('C0183', 0.9991066832400675), ('C0026', 0.9988621094498692), ('C0050', 0.9978873125738743)]\n",
      "Actual Similarities: [0.9998863120615246, 0.9998600585356212, 0.9997288327912385]\n",
      "Customer C0017 Recommendations: [('C0041', 0.9957997585273188), ('C0057', 0.9934251498391486), ('C0064', 0.9815122735813405)]\n",
      "Actual Similarities: [0.998304405406645, 0.9977654076300209, 0.9939052200474645]\n",
      "Customer C0018 Recommendations: [('C0139', 0.9902998196287938), ('C0047', 0.9836181302502688), ('C0156', 0.973641726786849)]\n",
      "Actual Similarities: [0.9989756186589103, 0.998344766550144, 0.9952925977889838]\n",
      "Customer C0019 Recommendations: [('C0073', 0.9995360575482942), ('C0070', 0.9965911794289871), ('C0135', 0.9961232920748859)]\n",
      "Actual Similarities: [0.9998877819105639, 0.999158805584631, 0.9991219016635855]\n",
      "Customer C0020 Recommendations: [('C0157', 0.9859729147573683), ('C0050', 0.984213591900306), ('C0035', 0.9822407020903572)]\n",
      "Actual Similarities: [0.9983680659115584, 0.9981493420251812, 0.997912230947892]\n"
     ]
    }
   ],
   "source": [
    "for cust_id, recommendations in lookalike_map.items():\n",
    "    actual_distances = []\n",
    "    for rec_id, score in recommendations:\n",
    "        # Get features for current and recommended customers\n",
    "        cust_features = customer_features[customer_features['CustomerID'] == cust_id].iloc[:, 1:].values\n",
    "        rec_features = customer_features[customer_features['CustomerID'] == rec_id].iloc[:, 1:].values\n",
    "\n",
    "        # Compute actual cosine similarity\n",
    "        actual_distance = cosine_similarity(cust_features, rec_features)[0][0]\n",
    "        actual_distances.append(actual_distance)\n",
    "\n",
    "    # Display results for consistency\n",
    "    print(f\"Customer {cust_id} Recommendations: {recommendations}\")\n",
    "    print(f\"Actual Similarities: {actual_distances}\")"
   ]
  },
  {
   "cell_type": "markdown",
   "id": "4b655271",
   "metadata": {},
   "source": [
    "## Average Similarity Score for Top 3 Recommendations"
   ]
  },
  {
   "cell_type": "code",
   "execution_count": 46,
   "id": "0e03b523",
   "metadata": {},
   "outputs": [
    {
     "name": "stdout",
     "output_type": "stream",
     "text": [
      "Average Similarity Score for Top-3 Recommendations: 0.9937983398056056\n"
     ]
    }
   ],
   "source": [
    "mean_similarity_scores = []\n",
    "\n",
    "for cust_id, recommendations in lookalike_map.items():\n",
    "    scores = [score for _, score in recommendations]\n",
    "    mean_similarity_scores.append(sum(scores) / len(scores))\n",
    "\n",
    "average_similarity = sum(mean_similarity_scores) / len(mean_similarity_scores)\n",
    "print(f\"Average Similarity Score for Top-3 Recommendations: {average_similarity}\")"
   ]
  },
  {
   "cell_type": "code",
   "execution_count": 47,
   "id": "aab33701",
   "metadata": {},
   "outputs": [],
   "source": [
    "import pandas as pd\n",
    "from sklearn.cluster import KMeans\n",
    "from sklearn.metrics.pairwise import cosine_similarity\n",
    "from sklearn.preprocessing import MinMaxScaler\n",
    "from sklearn.metrics import silhouette_score\n",
    "\n",
    "# Load the data\n",
    "customers = pd.read_csv(\"Customers.csv\")\n",
    "products = pd.read_csv(\"Products.csv\")\n",
    "transactions = pd.read_csv(\"Transactions.csv\")\n",
    "\n",
    "# Merge transaction data with customer and product information\n",
    "data = transactions.merge(customers, on=\"CustomerID\", how=\"left\")\n",
    "data = data.merge(products, on=\"ProductID\", how=\"left\")\n",
    "\n",
    "# Ensure TransactionDate is in datetime format\n",
    "data['TransactionDate'] = pd.to_datetime(data['TransactionDate'])\n"
   ]
  },
  {
   "cell_type": "code",
   "execution_count": 48,
   "id": "cf40007f",
   "metadata": {},
   "outputs": [],
   "source": [
    "# Feature Engineering\n",
    "customer_features = data.groupby('CustomerID').agg({\n",
    "    'Region': lambda x: x.mode()[0],                     # Most common region\n",
    "    'Quantity': 'sum',                                  # Total quantity purchased\n",
    "    'TotalValue': 'sum',                                # Total revenue generated\n",
    "    'Category': lambda x: x.nunique(),                  # Number of unique categories purchased\n",
    "    'ProductID': lambda x: x.nunique(),                 # Number of unique products purchased\n",
    "    'TransactionDate': lambda x: (data['TransactionDate'].max() - x.max()).days,  # Recency\n",
    "}).reset_index()\n",
    "\n",
    "# Rename columns for clarity\n",
    "customer_features.rename(columns={\n",
    "    'Category': 'CategoryDiversity',\n",
    "    'ProductID': 'ProductDiversity',\n",
    "    'TransactionDate': 'Recency'\n",
    "}, inplace=True)\n",
    "\n",
    "# One-hot encode the Region column\n",
    "customer_features = pd.get_dummies(customer_features, columns=['Region'], drop_first=True)\n",
    "\n",
    "# Normalize numerical features\n",
    "scaler = MinMaxScaler()\n",
    "customer_features.iloc[:, 1:] = scaler.fit_transform(customer_features.iloc[:, 1:])\n"
   ]
  },
  {
   "cell_type": "markdown",
   "id": "f3d29c9a",
   "metadata": {},
   "source": [
    "## Silhouette Score"
   ]
  },
  {
   "cell_type": "code",
   "execution_count": 49,
   "id": "8c2ad924",
   "metadata": {},
   "outputs": [
    {
     "name": "stdout",
     "output_type": "stream",
     "text": [
      "Silhouette Score: 0.6405\n"
     ]
    },
    {
     "name": "stderr",
     "output_type": "stream",
     "text": [
      "C:\\Users\\vaish\\AppData\\Roaming\\Python\\Python39\\site-packages\\sklearn\\cluster\\_kmeans.py:1429: UserWarning: KMeans is known to have a memory leak on Windows with MKL, when there are less chunks than available threads. You can avoid it by setting the environment variable OMP_NUM_THREADS=1.\n",
      "  warnings.warn(\n"
     ]
    }
   ],
   "source": [
    "# Apply K-Means Clustering\n",
    "optimal_k = 5  # Determined using domain knowledge or the elbow method\n",
    "kmeans = KMeans(n_clusters=optimal_k, random_state=42)\n",
    "customer_features['Cluster'] = kmeans.fit_predict(customer_features.iloc[:, 1:])\n",
    "\n",
    "# Calculate Silhouette Score\n",
    "silhouette_avg = silhouette_score(customer_features.iloc[:, 1:], customer_features['Cluster'])\n",
    "print(f\"Silhouette Score: {silhouette_avg:.4f}\")\n",
    "\n",
    "# Build Similarity Matrix\n",
    "similarity_matrix = cosine_similarity(customer_features.iloc[:, 1:-1])  # Exclude the Cluster column\n",
    "similarity_df = pd.DataFrame(similarity_matrix, index=customer_features['CustomerID'], columns=customer_features['CustomerID'])\n"
   ]
  },
  {
   "cell_type": "markdown",
   "id": "086d8f9c",
   "metadata": {},
   "source": [
    "## Lookalike Model for First 20 Customers"
   ]
  },
  {
   "cell_type": "markdown",
   "id": "2c516add",
   "metadata": {},
   "source": [
    "## Average Similarity Score for Top-3 Recommendations "
   ]
  },
  {
   "cell_type": "code",
   "execution_count": 50,
   "id": "460b71a4",
   "metadata": {},
   "outputs": [
    {
     "name": "stdout",
     "output_type": "stream",
     "text": [
      "Lookalike Model for Top 20 Customers Completed. Results saved to Vaishnavi_Anugu_Lookalike.csv\n",
      "Average Similarity Score for Top-3 Recommendations (Top 20 Customers): 0.9838\n"
     ]
    }
   ],
   "source": [
    "import pandas as pd\n",
    "\n",
    "# Generate Lookalikes\n",
    "lookalike_map = {}\n",
    "for cust_id in customer_features['CustomerID']:\n",
    "    # Get the top 3 most similar customers, excluding the customer themselves\n",
    "    similar_customers = similarity_df[cust_id].sort_values(ascending=False).drop(cust_id).head(3)\n",
    "    lookalike_map[cust_id] = [(rec_id, round(score, 4)) for rec_id, score in similar_customers.items()]\n",
    "\n",
    "# Limit to the first 20 customers\n",
    "top_20_customers = list(customer_features['CustomerID'])[:20]\n",
    "lookalike_results = []\n",
    "for cust_id in top_20_customers:\n",
    "    recommendations = lookalike_map.get(cust_id, [])\n",
    "    lookalike_results.append({\n",
    "        \"cust_id\": cust_id + \"  :  \",\n",
    "        \"Recommendations\": recommendations  # Store list of tuples directly\n",
    "    })\n",
    "\n",
    "# Create a DataFrame and save results to CSV\n",
    "lookalike_df = pd.DataFrame(lookalike_results)\n",
    "lookalike_df.to_csv(\"Vaishnavi_Anugu_Lookalike.csv\", index=False, sep='\\t')\n",
    "print(\"Lookalike Model for Top 20 Customers Completed. Results saved to Vaishnavi_Anugu_Lookalike.csv\")\n",
    "\n",
    "# Analyze Mean Similarity Scores\n",
    "mean_similarity_scores = []\n",
    "for cust_id in top_20_customers:\n",
    "    recommendations = lookalike_map.get(cust_id, [])\n",
    "    scores = [score for _, score in recommendations]\n",
    "    if scores:  # Avoid empty lists\n",
    "        mean_similarity_scores.append(sum(scores) / len(scores))\n",
    "\n",
    "average_similarity = sum(mean_similarity_scores) / len(mean_similarity_scores)\n",
    "print(f\"Average Similarity Score for Top-3 Recommendations (Top 20 Customers): {average_similarity:.4f}\")\n"
   ]
  },
  {
   "cell_type": "code",
   "execution_count": null,
   "id": "56611308",
   "metadata": {},
   "outputs": [],
   "source": []
  },
  {
   "cell_type": "code",
   "execution_count": null,
   "id": "36cc086b",
   "metadata": {},
   "outputs": [],
   "source": []
  }
 ],
 "metadata": {
  "kernelspec": {
   "display_name": "Python 3 (ipykernel)",
   "language": "python",
   "name": "python3"
  },
  "language_info": {
   "codemirror_mode": {
    "name": "ipython",
    "version": 3
   },
   "file_extension": ".py",
   "mimetype": "text/x-python",
   "name": "python",
   "nbconvert_exporter": "python",
   "pygments_lexer": "ipython3",
   "version": "3.9.13"
  }
 },
 "nbformat": 4,
 "nbformat_minor": 5
}
